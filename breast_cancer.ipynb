{
  "nbformat": 4,
  "nbformat_minor": 0,
  "metadata": {
    "colab": {
      "name": "breast_cancer.ipynb",
      "provenance": [],
      "collapsed_sections": [],
      "mount_file_id": "1zN2Gn39Ea0Sh-wqiT02vzEHefhhiLd4O",
      "authorship_tag": "ABX9TyOeScEldiCcdhaQkKopeYs/",
      "include_colab_link": true
    },
    "kernelspec": {
      "name": "python3",
      "display_name": "Python 3"
    }
  },
  "cells": [
    {
      "cell_type": "markdown",
      "metadata": {
        "id": "view-in-github",
        "colab_type": "text"
      },
      "source": [
        "<a href=\"https://colab.research.google.com/github/Lambert12/breastCancer/blob/master/breast_cancer.ipynb\" target=\"_parent\"><img src=\"https://colab.research.google.com/assets/colab-badge.svg\" alt=\"Open In Colab\"/></a>"
      ]
    },
    {
      "cell_type": "markdown",
      "metadata": {
        "id": "b13B9jwB_nCW",
        "colab_type": "text"
      },
      "source": [
        "Requred library"
      ]
    },
    {
      "cell_type": "code",
      "metadata": {
        "id": "qu94Z8jZyzUC",
        "colab_type": "code",
        "colab": {}
      },
      "source": [
        "import pandas as pd\n",
        "import numpy as np\n",
        "from sklearn.model_selection import train_test_split\n",
        "from sklearn.linear_model import LogisticRegression\n",
        "from sklearn.svm import SVC\n",
        "import pickle\n",
        "\n",
        "\n"
      ],
      "execution_count": 33,
      "outputs": []
    },
    {
      "cell_type": "markdown",
      "metadata": {
        "id": "nzziI-o8rdy_",
        "colab_type": "text"
      },
      "source": [
        "connect colab to drive"
      ]
    },
    {
      "cell_type": "code",
      "metadata": {
        "id": "hF7pfhOOrjEV",
        "colab_type": "code",
        "colab": {
          "base_uri": "https://localhost:8080/",
          "height": 122
        },
        "outputId": "914a60ea-d3ec-4d3e-db82-e6f558f3982e"
      },
      "source": [
        "from google.colab import drive\n",
        "drive.mount('/content/gdrive')"
      ],
      "execution_count": 8,
      "outputs": [
        {
          "output_type": "stream",
          "text": [
            "Go to this URL in a browser: https://accounts.google.com/o/oauth2/auth?client_id=947318989803-6bn6qk8qdgf4n4g3pfee6491hc0brc4i.apps.googleusercontent.com&redirect_uri=urn%3aietf%3awg%3aoauth%3a2.0%3aoob&scope=email%20https%3a%2f%2fwww.googleapis.com%2fauth%2fdocs.test%20https%3a%2f%2fwww.googleapis.com%2fauth%2fdrive%20https%3a%2f%2fwww.googleapis.com%2fauth%2fdrive.photos.readonly%20https%3a%2f%2fwww.googleapis.com%2fauth%2fpeopleapi.readonly&response_type=code\n",
            "\n",
            "Enter your authorization code:\n",
            "··········\n",
            "Mounted at /content/gdrive\n"
          ],
          "name": "stdout"
        }
      ]
    },
    {
      "cell_type": "markdown",
      "metadata": {
        "id": "aARHgXT56_2o",
        "colab_type": "text"
      },
      "source": [
        "load data int csv file,\n",
        "data.columns : define csv table,\n",
        "data.to_csv: save data into csv file"
      ]
    },
    {
      "cell_type": "code",
      "metadata": {
        "id": "C9JKojVM3zww",
        "colab_type": "code",
        "colab": {}
      },
      "source": [
        "import pandas as pd\n",
        "\n",
        "data = pd.read_csv(\"/content/gdrive/My Drive/Colab Notebooks/breast-cancer-wisconsin/breast-cancer-wisconsin.data\")\n",
        "\n",
        "data.columns = [\"id\",\"ClumpThick\",\"UniSize\",\"UniShape\",\"MargAd\",\"SingEpiCelSize\",\"Bare Nuc\",\"BlandChr\",\"NormalNuc\",\"Mito\",\"Class\"]\n",
        "              \n",
        "data.to_csv(\"data.csv\", index=None, header=True)   "
      ],
      "execution_count": 14,
      "outputs": []
    },
    {
      "cell_type": "markdown",
      "metadata": {
        "id": "hR3GW2W02mew",
        "colab_type": "text"
      },
      "source": [
        "Preprocessing of data, removing id col"
      ]
    },
    {
      "cell_type": "code",
      "metadata": {
        "id": "3ymghTqh2tEe",
        "colab_type": "code",
        "colab": {}
      },
      "source": [
        "import pandas as pd\n",
        "\n",
        "data = pd.read_csv(\"data.csv\")\n",
        "#print(data.head())\n",
        "\n",
        "data.drop(['id'], inplace= True, axis = 1)\n",
        "#print(data.head())\n",
        "\n",
        "data.replace('?', -99999, inplace= True)\n",
        "#print(data.head()) \n",
        "\n",
        "data[\"Class\"] = data[\"Class\"].map(lambda x: 1 if x == 4 else 0)\n",
        "    \n",
        "#print(data.head()) "
      ],
      "execution_count": 15,
      "outputs": []
    },
    {
      "cell_type": "markdown",
      "metadata": {
        "id": "i9Ju6t-UBZtL",
        "colab_type": "text"
      },
      "source": [
        "defining X and Y (features and labels), in ML both X (in capital letter) and y in small letter represents features, using numpy library "
      ]
    },
    {
      "cell_type": "code",
      "metadata": {
        "id": "oGrP7XQCBjot",
        "colab_type": "code",
        "colab": {}
      },
      "source": [
        "X = np.array(data.drop([\"Class\"], axis = 1))\n",
        "#print(X)\n",
        "y= np.array(data[\"Class\"])\n",
        "#print(y)"
      ],
      "execution_count": 16,
      "outputs": []
    },
    {
      "cell_type": "markdown",
      "metadata": {
        "id": "eblv-vStDqis",
        "colab_type": "text"
      },
      "source": [
        "training & testing models using sklearn library, 0.1 means 10% of data will be used test and remaining 90% training data"
      ]
    },
    {
      "cell_type": "code",
      "metadata": {
        "id": "25U0E5ZwDnF2",
        "colab_type": "code",
        "colab": {}
      },
      "source": [
        "[X_train, X_test, y_train, y_test] = train_test_split(X,y, test_size = 0.1, random_state = 0)\n",
        "\n"
      ],
      "execution_count": 17,
      "outputs": []
    },
    {
      "cell_type": "markdown",
      "metadata": {
        "id": "5Mub6rWBSy0Q",
        "colab_type": "text"
      },
      "source": [
        "SVC Classifier (start if training)  #define the model, #train the model, #check the accuracy"
      ]
    },
    {
      "cell_type": "code",
      "metadata": {
        "id": "JhkSwNjOSvbp",
        "colab_type": "code",
        "colab": {
          "base_uri": "https://localhost:8080/",
          "height": 34
        },
        "outputId": "5d12547a-8973-46a6-e7af-a58cee677240"
      },
      "source": [
        "Classifier = SVC(kernel ='linear')\n",
        "#Classifier = SVC()\n",
        "\n",
        "model = Classifier.fit (X_train, y_train)\n",
        "\n",
        "\n",
        "accu = model.score(X_test, y_test)\n",
        "\n",
        "print(\"Accuracy of SVC: \", accu)\n"
      ],
      "execution_count": 31,
      "outputs": [
        {
          "output_type": "stream",
          "text": [
            "Accuracy of SVC:  0.9571428571428572\n"
          ],
          "name": "stdout"
        }
      ]
    },
    {
      "cell_type": "markdown",
      "metadata": {
        "id": "LC5hEeeFz5M6",
        "colab_type": "text"
      },
      "source": [
        "Logistic regression"
      ]
    },
    {
      "cell_type": "code",
      "metadata": {
        "id": "KUnMLZyxz4F8",
        "colab_type": "code",
        "colab": {
          "base_uri": "https://localhost:8080/",
          "height": 34
        },
        "outputId": "9800e366-3b55-4ad6-c933-23f0d35414fa"
      },
      "source": [
        "Classifier = LogisticRegression(solver = 'liblinear')\n",
        "#Classifier = LogisticRegression()\n",
        "model = Classifier.fit(X_train, y_train)\n",
        "accu = model.score(X_test, y_test)\n",
        "print(\"Accuracy of Logistic Regression : \", accu)"
      ],
      "execution_count": 32,
      "outputs": [
        {
          "output_type": "stream",
          "text": [
            "Accuracy of Logistic Regression :  0.9571428571428572\n"
          ],
          "name": "stdout"
        }
      ]
    },
    {
      "cell_type": "markdown",
      "metadata": {
        "id": "8tUmCwt607uc",
        "colab_type": "text"
      },
      "source": [
        "Saving and loading the models , its very important to save the model after test it. for huge data it take long time. we use Pickle library to save the models. wb: writablle, rb:readble"
      ]
    },
    {
      "cell_type": "code",
      "metadata": {
        "id": "U93v-Nuc1KDm",
        "colab_type": "code",
        "colab": {
          "base_uri": "https://localhost:8080/",
          "height": 34
        },
        "outputId": "e80286e7-a760-4ec3-aae5-1e37238d8c20"
      },
      "source": [
        "#Save LogisticRegression model\n",
        "pickle.dump(model, open(\"LogisticRegression.m\", \"wb\"))\n",
        "\n",
        "#Loading the saved model\n",
        "loaded_model = pickle.load(open(\"LogisticRegression.m\", \"rb\"))\n",
        "accu = loaded_model.score(X_test, y_test)\n",
        "print(\"Accuracy of Logistic Regression : \", accu)"
      ],
      "execution_count": 46,
      "outputs": [
        {
          "output_type": "stream",
          "text": [
            "Accuracy of Logistic Regression :  0.9571428571428572\n"
          ],
          "name": "stdout"
        }
      ]
    },
    {
      "cell_type": "markdown",
      "metadata": {
        "id": "cxnNrkg23W_8",
        "colab_type": "text"
      },
      "source": [
        "Prediction using Training models"
      ]
    },
    {
      "cell_type": "code",
      "metadata": {
        "id": "kl6_9GN53byL",
        "colab_type": "code",
        "colab": {
          "base_uri": "https://localhost:8080/",
          "height": 34
        },
        "outputId": "52fad979-4081-4eb2-89fc-162a02ed3397"
      },
      "source": [
        "#making prediction of random sample\n",
        "classes = [\"Benign\", \"Malignant\"]\n",
        "sample = np.array([[1,1,2,1,2,10,9,8,10]])\n",
        "result = loaded_model.predict(sample)\n",
        "print(classes[int(result)])"
      ],
      "execution_count": 52,
      "outputs": [
        {
          "output_type": "stream",
          "text": [
            "Malignant\n"
          ],
          "name": "stdout"
        }
      ]
    },
    {
      "cell_type": "markdown",
      "metadata": {
        "id": "iytK5pbM6Vi_",
        "colab_type": "text"
      },
      "source": [
        "prediction for sample id 1002945"
      ]
    },
    {
      "cell_type": "code",
      "metadata": {
        "id": "tzDcI4_J6buE",
        "colab_type": "code",
        "colab": {
          "base_uri": "https://localhost:8080/",
          "height": 34
        },
        "outputId": "8ab516b3-990e-4972-f8cd-b57543e873f4"
      },
      "source": [
        "classes = [\"Benign\", \"Malignant\"]\n",
        "sample1 = np.array([[5,4,4,5,7,10,3,2,1]])\n",
        "result = loaded_model.predict(sample1)\n",
        "print(classes[int(result)])"
      ],
      "execution_count": 50,
      "outputs": [
        {
          "output_type": "stream",
          "text": [
            "Benign\n"
          ],
          "name": "stdout"
        }
      ]
    },
    {
      "cell_type": "markdown",
      "metadata": {
        "id": "AiPz4flu64wY",
        "colab_type": "text"
      },
      "source": [
        "prediction for sample id 1054593"
      ]
    },
    {
      "cell_type": "code",
      "metadata": {
        "id": "GOfHORLw6_e_",
        "colab_type": "code",
        "colab": {
          "base_uri": "https://localhost:8080/",
          "height": 34
        },
        "outputId": "fb97ee4f-41b9-49ec-802a-aa3b57dde485"
      },
      "source": [
        "classes = [\"Benign\", \"Malignant\"]\n",
        "sample2 = np.array([[10,5,5,3,6,7,7,10,1]])\n",
        "result = loaded_model.predict(sample2)\n",
        "print(classes[int(result)])"
      ],
      "execution_count": 51,
      "outputs": [
        {
          "output_type": "stream",
          "text": [
            "Malignant\n"
          ],
          "name": "stdout"
        }
      ]
    },
    {
      "cell_type": "markdown",
      "metadata": {
        "id": "NQ2n7loI8JdI",
        "colab_type": "text"
      },
      "source": [
        "**Conclusion** : the samples with values close to 10 are malignant tumor while the samples with low value are benign tumor."
      ]
    }
  ]
}